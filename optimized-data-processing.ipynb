{
 "cells": [
  {
   "cell_type": "code",
   "execution_count": null,
   "metadata": {},
   "outputs": [],
   "source": [
    "from google.colab import drive\n",
    "drive.mount('/content/drive')"
   ]
  },
  {
   "cell_type": "code",
   "execution_count": null,
   "metadata": {},
   "outputs": [],
   "source": [
    "# Import library\n",
    "import pandas as pd\n",
    "import numpy as np\n",
    "import random as rd\n",
    "import math"
   ]
  },
  {
   "cell_type": "code",
   "execution_count": null,
   "metadata": {},
   "outputs": [],
   "source": [
    "df = pd.read_excel(\"/content/drive/MyDrive/Đàn kiến không time out/Đàn kiến không time out/data.xlsx\")\n",
    "df_distance = pd.read_excel('/content/drive/MyDrive/Đàn kiến không time out/Đàn kiến không time out/distance-matrix.xlsx')\n",
    "df_distance\n"
   ]
  },
  {
   "cell_type": "markdown",
   "metadata": {},
   "source": [
    "# Distance matrix"
   ]
  },
  {
   "cell_type": "code",
   "execution_count": null,
   "metadata": {},
   "outputs": [],
   "source": [
    "# Get n ant is quantity customer\n",
    "n = df['Open'].index[-1]\n",
    "n = n + 1\n",
    "m = n\n",
    "# Put coordinates on gg maps to get distance\n",
    "dfAddr = df['Coordinates Valid'] # dataframe"
   ]
  },
  {
   "cell_type": "markdown",
   "metadata": {},
   "source": [
    "# Function"
   ]
  },
  {
   "cell_type": "code",
   "execution_count": null,
   "metadata": {},
   "outputs": [],
   "source": [
    "# Hàm tính toán khoảng cách\n",
    "def calcDistAuto(coord1, coord2):\n",
    "    \"\"\"\n",
    "    Tính toán khoảng cách giữa hai tọa độ.\n",
    "    \"\"\"\n",
    "    return np.linalg.norm(np.array(coord1) - np.array(coord2))"
   ]
  },
  {
   "cell_type": "code",
   "execution_count": null,
   "metadata": {},
   "outputs": [],
   "source": [
    "\n",
    "# Convert dataframe customer to array one dimensional\n",
    "listCustomerAddress = df['Coordinates Valid'][0:].to_list()\n",
    "\n",
    "# Distance from random place to other place\n",
    "\n",
    "listDistance = []\n",
    "# placeI =\"Mỹ Yên, Bến Lức, Long An\"\n",
    "# placeI = \"Phường 2, Tân An, Long An\"\n",
    "def getListDistance(placeI, listCustomerAddress):\n",
    "    for cusAddr in listCustomerAddress:\n",
    "        # print(cusAddr)\n",
    "        dist = calcDistAuto(placeI, cusAddr)\n",
    "        listDistance.append(dist)\n",
    "    return listDistance\n",
    "\n",
    "# Function get total distance for node i\n",
    "def getTotalDistanceForOneNode(listDistance):\n",
    "    return round(sum(listDistance), 2)\n",
    "\n",
    "speed = 50 # (km/h)\n",
    "# Example\n",
    "# place1 = \"Phường 2, Tân An, Long An\"\n",
    "# place2 = \"Mỹ Yên, Bến Lức, Long An\"\n",
    "\n",
    "# distance = calcDistAuto(place1, place2) # (km)\n",
    "\n",
    "def calculateDuration(speed, distance, route):\n",
    "\n",
    "    waitingtime = len(route)*0.5\n",
    "    totalhour = distance/speed + waitingtime\n",
    "    return totalhour # (hour)\n",
    "\n",
    "def printDuration(total_hours):\n",
    "      # Tách phần nguyên và phần thập phân của giờ\n",
    "    hours = int(total_hours)\n",
    "    minutes = (total_hours - hours) * 60\n",
    "\n",
    "  # Làm tròn số phút\n",
    "    minutes = round(minutes)\n",
    "\n",
    "    print(str(hours) + \"h \" + str(round(minutes)) + \"m\")\n",
    "\n",
    "listDuration = []\n",
    "def getListDuration(placeI, listCustomerAddress,speed):\n",
    "    for cusAddr in listCustomerAddress:\n",
    "        # print(cusAddr)\n",
    "        dist = calcDistAuto(placeI, cusAddr)\n",
    "        listDuration.append(dist/speed + 0.5)\n",
    "    return listDuration\n"
   ]
  },
  {
   "cell_type": "markdown",
   "metadata": {},
   "source": [
    "# Greed\n"
   ]
  },
  {
   "cell_type": "code",
   "execution_count": null,
   "metadata": {},
   "outputs": [],
   "source": [
    "def findJForI_greed(listDistance, index, listplace):\n",
    "    # have: listDistance, listH2, alpha, beta\n",
    "    valueRandom = df.iloc[index, df.columns.get_loc('Coordinates Valid')]\n",
    "    result = 0 # it is index of j\n",
    "    # done\n",
    "    # Get maximum odor trace concentration\n",
    "    maxOdor = float('inf')\n",
    "    for i in range(len(listDistance)):\n",
    "        if (listDistance[i] != 0) & (listDistance[i] < maxOdor):\n",
    "            maxOdor = listDistance[i]\n",
    "            result = listplace[i]\n",
    "\n",
    "    return result\n",
    "\n",
    "listCustomerAddress = df[\"Coordinates Valid\"][0:].to_list()\n",
    "placeI = df[\"Coordinates Valid\"][0]\n",
    "\n",
    "ori_road = listCustomerAddress\n",
    "roadSavedNodes_greed = []\n",
    "\n",
    "listDistance=[]\n",
    "\n",
    "while ori_road != []:\n",
    "\n",
    "  listDistance = getListDistance(placeI, ori_road)\n",
    "  # print(listDistance)\n",
    "  # roadSavedNodes.clear()\n",
    "  # roadSavedNodes.append(currentIndex)\n",
    "\n",
    "  current_index = df[df[\"Coordinates Valid\"] == placeI].index[0]\n",
    "\n",
    "  next_index_place = findJForI_greed(listDistance, current_index, ori_road)\n",
    "\n",
    "  # next_index = df[df[\"Coordinates Valid\"] == next_index_place].index[0]\n",
    "  # print(next_index)\n",
    "\n",
    "  roadSavedNodes_greed.append(current_index)\n",
    "  ori_road.remove(placeI)\n",
    "\n",
    "  placeI = next_index_place\n",
    "\n",
    "  listDistance.clear()\n",
    "\n",
    "roadSavedNodes_greed\n",
    "\n",
    "capacitylist = df[\"Capacity\"].to_list()"
   ]
  },
  {
   "cell_type": "code",
   "execution_count": null,
   "metadata": {},
   "outputs": [],
   "source": [
    "currentcapacity = 50\n",
    "capacitymax = 2000\n",
    "durationmax = 48\n",
    "currentduration = 12\n",
    "listCustomerAddress = df[\"Coordinates Valid\"][0:].to_list()\n",
    "def findJForI(listDistance, index,\n",
    "              currentcapacity, capacitylist, capacitymax,\n",
    "              currentduration, listDuration, durationmax, odor_matrix, alpha, beta):\n",
    "    # have: listDistance, listH2, alpha, beta\n",
    "    # alpha = 1\n",
    "    # beta = 2\n",
    "    valueRandom = df.iloc[index, df.columns.get_loc('Coordinates Valid')]\n",
    "    arrOdor = []\n",
    "    result = 0 # it is index of j\n",
    "    i=0\n",
    "    odor_list = []\n",
    "    # odor = 2\n",
    "    # Creat array for odor\n",
    "    for i in range(len(listDistance)):\n",
    "        odorvalue = odor_matrix[index][i] # distance\n",
    "        odor_list.append(odorvalue)\n",
    "\n",
    "    odor_arr = pd.array(odor_list)\n",
    "    # print(odor_arr)\n",
    "    # Calculating array storage heuristic value\n",
    "    for i in range(len(listDistance)):\n",
    "        h1 = listDistance[i] # distance\n",
    "\n",
    "        if (h1) == 0: # because it is start node\n",
    "            arrOdor.append(0)\n",
    "            continue\n",
    "        o = 50000/(h1)\n",
    "        arrOdor.append(o)\n",
    "\n",
    "    heuristic_mattrix = pd.array(arrOdor)\n",
    "    # print(arrOdor)\n",
    "\n",
    "    denominator = sum(pow(odor_arr, alpha) * pow(heuristic_mattrix, beta)) # const # done\n",
    "    # print(denominator)\n",
    "    numerator = 0\n",
    "\n",
    "    # Calculate odor\n",
    "    arrOdorChooseJ = []\n",
    "    for i in range(len(listDistance)): # correct is n, n = listDistance = listH2\n",
    "        numerator = pow(odor_arr[i], alpha) * pow(heuristic_mattrix[i], beta) # variable base\n",
    "        if denominator == 0:\n",
    "            denominator = 0.00000000001\n",
    "        temp = numerator / denominator\n",
    "        arrOdorChooseJ.append(temp)\n",
    "\n",
    "    # print(arrOdorChooseJ)\n",
    "    # Choose wh meet capacity\n",
    "    listwh = []\n",
    "    for i in range(len(listDistance)):\n",
    "        if (currentcapacity + capacitylist[i] <= capacitymax) & (listDistance[i] != 0) & (currentduration + listDuration[i] <= durationmax):\n",
    "            listwh.append(i)\n",
    "\n",
    "    # print(listwh)\n",
    "    # Get maximum odor trace concentration\n",
    "    maxOdor = 0\n",
    "    if listwh != []:\n",
    "        for i in listwh:\n",
    "          if (arrOdorChooseJ[i] > maxOdor):\n",
    "                maxOdor = arrOdorChooseJ[i]\n",
    "                result = i\n",
    "\n",
    "    else:\n",
    "        for i in range(len(listDistance)):\n",
    "          if (arrOdorChooseJ[i] > maxOdor):\n",
    "            maxOdor = arrOdorChooseJ[i]\n",
    "            result = i\n",
    "\n",
    "    # print(arrOdorChooseJ)\n",
    "    # print(listwh)\n",
    "    return result\n",
    "\n"
   ]
  },
  {
   "cell_type": "code",
   "execution_count": null,
   "metadata": {},
   "outputs": [],
   "source": [
    "def notTravaled(odor_matrix, evap_coef=0.1):\n",
    "\treturn odor_matrix * (1 - evap_coef)"
   ]
  },
  {
   "cell_type": "code",
   "execution_count": null,
   "metadata": {},
   "outputs": [],
   "source": [
    "def defaultOdorMatrix(x, n):\n",
    "    \"\"\"\n",
    "    Khởi tạo ma trận mùi với NumPy.\n",
    "    \"\"\"\n",
    "    # Tạo một ma trận nxn toàn số `x`\n",
    "    odorMatrix = np.full((n, n), x)\n",
    "\n",
    "    # Đặt đường chéo chính thành 0\n",
    "    np.fill_diagonal(odorMatrix, 0)\n",
    "\n",
    "    # Chuyển đổi sang DataFrame (nếu cần)\n",
    "    return pd.DataFrame(odorMatrix)"
   ]
  },
  {
   "cell_type": "code",
   "execution_count": null,
   "metadata": {},
   "outputs": [],
   "source": [
    "def totalDistanceVisited(road, distance_matrix):\n",
    "    \"\"\"\n",
    "    Tính tổng quãng đường đã đi qua sử dụng ma trận khoảng cách.\n",
    "    road: danh sách các điểm đi qua.\n",
    "    distance_matrix: ma trận khoảng cách giữa các điểm.\n",
    "    \"\"\"\n",
    "    # Lấy chỉ số các cặp (road[i], road[i+1])\n",
    "    indices = zip(road[:-1], road[1:])\n",
    "\n",
    "    # Sử dụng NumPy để tính tổng khoảng cách\n",
    "    total_distance = sum(distance_matrix[i, j] for i, j in indices)\n",
    "\n",
    "    # Thêm quãng đường quay lại điểm bắt đầu\n",
    "    total_distance += distance_matrix[road[-1], road[0]]\n",
    "\n",
    "    return round(total_distance, 2)"
   ]
  },
  {
   "cell_type": "markdown",
   "metadata": {},
   "source": [
    "# Total distance greed"
   ]
  },
  {
   "cell_type": "code",
   "execution_count": null,
   "metadata": {},
   "outputs": [],
   "source": [
    "listCustomerAddress = df[\"Coordinates Valid\"][0:].to_list()\n",
    "roadSavedNodes_greed\n",
    "finalTotal = 0\n",
    "total_distance_greed = 0\n",
    "centerPlace = df.loc[0, 'Coordinates Valid']\n",
    "total_distance_greed = totalDistanceVisited(roadSavedNodes_greed)\n",
    "val = roadSavedNodes_greed[-1]\n",
    "total_distance_greed += calcDistAuto(centerPlace, listCustomerAddress[val])\n",
    "\n",
    "total_distance_greed"
   ]
  },
  {
   "cell_type": "code",
   "execution_count": null,
   "metadata": {},
   "outputs": [],
   "source": [
    "num_cus = len(listCustomerAddress) -1"
   ]
  },
  {
   "cell_type": "code",
   "execution_count": null,
   "metadata": {},
   "outputs": [],
   "source": [
    "def determineAddEdges(roadSavedNodes):\n",
    "    \"\"\"\n",
    "    Tạo danh sách các cạnh cần cập nhật mùi bằng NumPy.\n",
    "    \"\"\"\n",
    "    # Chuyển danh sách thành mảng NumPy\n",
    "    road_array = np.array(roadSavedNodes)\n",
    "\n",
    "    # Lấy các cặp cạnh\n",
    "    edges = np.column_stack((road_array[:-1], road_array[1:]))\n",
    "\n",
    "    # Thêm cạnh quay lại điểm đầu\n",
    "    reverse_edges = edges[:, ::-1]\n",
    "\n",
    "    return np.vstack((edges, reverse_edges))"
   ]
  },
  {
   "cell_type": "code",
   "execution_count": null,
   "metadata": {},
   "outputs": [],
   "source": [
    "def randomNumber(n):\n",
    "    list_ran = list(range(0,n))\n",
    "    rd.shuffle(list_ran)\n",
    "    value = list_ran[0]\n",
    "    return value\n"
   ]
  }
 ],
 "metadata": {
  "kernelspec": {
   "display_name": "Python 3",
   "language": "python",
   "name": "python3"
  },
  "language_info": {
   "name": "python",
   "version": "3.12.3"
  }
 },
 "nbformat": 4,
 "nbformat_minor": 2
}
